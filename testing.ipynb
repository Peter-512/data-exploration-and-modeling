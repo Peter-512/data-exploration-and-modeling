{
 "cells": [
  {
   "cell_type": "code",
   "execution_count": 1,
   "id": "initial_id",
   "metadata": {
    "collapsed": true,
    "ExecuteTime": {
     "end_time": "2024-04-16T12:11:53.082940Z",
     "start_time": "2024-04-16T12:11:53.078548Z"
    }
   },
   "outputs": [],
   "source": [
    "import pandas as pd\n",
    "\n",
    "test1_df = pd.DataFrame({\n",
    "    'A': ['A0', 'A1', 'A2', 'A3'],\n",
    "    'B': ['B0', 'B1', 'B2', 'B3'],\n",
    "    'C': ['C0', 'C1', 'C2', 'C3'],\n",
    "    'D': ['D0', 'D1', 'D2', 'D3']\n",
    "})\n",
    "\n",
    "test2_df = pd.DataFrame({\n",
    "    'E': ['A4', 'A5', 'A6', 'A7'],\n",
    "    'F': ['B4', 'B5', 'B6', 'B7'],\n",
    "    'G': ['C4', 'C5', 'C6', 'C7'],\n",
    "    'H': ['D4', 'D5', 'D6', 'D7']\n",
    "})\n",
    "\n",
    "test3_df = pd.DataFrame({\n",
    "    'I': ['A8', 'A9', 'A10', 'A11'],\n",
    "    'J': ['B8', 'B9', 'B10', 'B11'],\n",
    "    'K': ['C8', 'C9', 'C10', 'C11'],\n",
    "    'L': ['D8', 'D9', 'D10', 'D11']\n",
    "})"
   ]
  },
  {
   "cell_type": "code",
   "outputs": [],
   "source": [
    "# create a new df with a multiindex and all the dataframes inside it with the outer index being the name of the dataframe but transpose the dataframes\n",
    "df = pd.concat([test1_df.T, test2_df.T, test3_df.T], keys=['test1', 'test2', 'test3'])\n",
    "\n"
   ],
   "metadata": {
    "collapsed": false,
    "ExecuteTime": {
     "end_time": "2024-04-16T12:13:55.282908Z",
     "start_time": "2024-04-16T12:13:55.252563Z"
    }
   },
   "id": "14d67cf2c66f04fd",
   "execution_count": 4
  },
  {
   "cell_type": "code",
   "outputs": [
    {
     "data": {
      "text/plain": "  test1             test2             test3               \n      A   B   C   D     E   F   G   H     I    J    K    L\n0    A0  B0  C0  D0    A4  B4  C4  D4    A8   B8   C8   D8\n1    A1  B1  C1  D1    A5  B5  C5  D5    A9   B9   C9   D9\n2    A2  B2  C2  D2    A6  B6  C6  D6   A10  B10  C10  D10\n3    A3  B3  C3  D3    A7  B7  C7  D7   A11  B11  C11  D11",
      "text/html": "<div>\n<style scoped>\n    .dataframe tbody tr th:only-of-type {\n        vertical-align: middle;\n    }\n\n    .dataframe tbody tr th {\n        vertical-align: top;\n    }\n\n    .dataframe thead tr th {\n        text-align: left;\n    }\n</style>\n<table border=\"1\" class=\"dataframe\">\n  <thead>\n    <tr>\n      <th></th>\n      <th colspan=\"4\" halign=\"left\">test1</th>\n      <th colspan=\"4\" halign=\"left\">test2</th>\n      <th colspan=\"4\" halign=\"left\">test3</th>\n    </tr>\n    <tr>\n      <th></th>\n      <th>A</th>\n      <th>B</th>\n      <th>C</th>\n      <th>D</th>\n      <th>E</th>\n      <th>F</th>\n      <th>G</th>\n      <th>H</th>\n      <th>I</th>\n      <th>J</th>\n      <th>K</th>\n      <th>L</th>\n    </tr>\n  </thead>\n  <tbody>\n    <tr>\n      <th>0</th>\n      <td>A0</td>\n      <td>B0</td>\n      <td>C0</td>\n      <td>D0</td>\n      <td>A4</td>\n      <td>B4</td>\n      <td>C4</td>\n      <td>D4</td>\n      <td>A8</td>\n      <td>B8</td>\n      <td>C8</td>\n      <td>D8</td>\n    </tr>\n    <tr>\n      <th>1</th>\n      <td>A1</td>\n      <td>B1</td>\n      <td>C1</td>\n      <td>D1</td>\n      <td>A5</td>\n      <td>B5</td>\n      <td>C5</td>\n      <td>D5</td>\n      <td>A9</td>\n      <td>B9</td>\n      <td>C9</td>\n      <td>D9</td>\n    </tr>\n    <tr>\n      <th>2</th>\n      <td>A2</td>\n      <td>B2</td>\n      <td>C2</td>\n      <td>D2</td>\n      <td>A6</td>\n      <td>B6</td>\n      <td>C6</td>\n      <td>D6</td>\n      <td>A10</td>\n      <td>B10</td>\n      <td>C10</td>\n      <td>D10</td>\n    </tr>\n    <tr>\n      <th>3</th>\n      <td>A3</td>\n      <td>B3</td>\n      <td>C3</td>\n      <td>D3</td>\n      <td>A7</td>\n      <td>B7</td>\n      <td>C7</td>\n      <td>D7</td>\n      <td>A11</td>\n      <td>B11</td>\n      <td>C11</td>\n      <td>D11</td>\n    </tr>\n  </tbody>\n</table>\n</div>"
     },
     "execution_count": 6,
     "metadata": {},
     "output_type": "execute_result"
    }
   ],
   "source": [
    "df.T"
   ],
   "metadata": {
    "collapsed": false,
    "ExecuteTime": {
     "end_time": "2024-04-16T12:14:05.114624Z",
     "start_time": "2024-04-16T12:14:05.109422Z"
    }
   },
   "id": "e762c358c71b7f25",
   "execution_count": 6
  },
  {
   "cell_type": "code",
   "outputs": [],
   "source": [],
   "metadata": {
    "collapsed": false
   },
   "id": "ee7d87dbfdd52a3d"
  }
 ],
 "metadata": {
  "kernelspec": {
   "display_name": "Python 3",
   "language": "python",
   "name": "python3"
  },
  "language_info": {
   "codemirror_mode": {
    "name": "ipython",
    "version": 2
   },
   "file_extension": ".py",
   "mimetype": "text/x-python",
   "name": "python",
   "nbconvert_exporter": "python",
   "pygments_lexer": "ipython2",
   "version": "2.7.6"
  }
 },
 "nbformat": 4,
 "nbformat_minor": 5
}
